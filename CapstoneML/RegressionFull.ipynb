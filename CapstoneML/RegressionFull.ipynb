{
 "cells": [
  {
   "cell_type": "code",
   "execution_count": 1,
   "id": "99d46476-675d-4c00-b2bf-ea4095eda761",
   "metadata": {
    "tags": []
   },
   "outputs": [],
   "source": [
    "import pandas as pd\n",
    "import matplotlib.pyplot as plt\n",
    "import numpy as np\n",
    "data_full = pd.read_csv(\"cleandata.csv\", sep=(\",\"))"
   ]
  },
  {
   "cell_type": "code",
   "execution_count": 2,
   "id": "1a90aa78-108d-4507-ab2d-92f6f98dd1e4",
   "metadata": {
    "tags": []
   },
   "outputs": [
    {
     "name": "stdout",
     "output_type": "stream",
     "text": [
      "Train size:  816 Test size:  204\n"
     ]
    }
   ],
   "source": [
    "from sklearn.model_selection import train_test_split\n",
    "train_set, test_set = train_test_split(data_full,\n",
    " test_size=0.2, random_state=123)\n",
    "print('Train size: ', len(train_set), 'Test size: ', len(test_set))"
   ]
  },
  {
   "cell_type": "code",
   "execution_count": null,
   "id": "3068a4e1-372a-4973-a0c3-347db78cfa89",
   "metadata": {},
   "outputs": [],
   "source": []
  },
  {
   "cell_type": "code",
   "execution_count": 30,
   "id": "4dcf16df-eef4-4dc0-980c-e349d7cccc60",
   "metadata": {
    "tags": []
   },
   "outputs": [
    {
     "name": "stdout",
     "output_type": "stream",
     "text": [
      "Results for linear regression on training data\n",
      "Input: Score, Test Year\n",
      " Default settings\n",
      "Internal parameters:\n",
      " Bias is  -8.982018401372585\n",
      " Coefficients [ 0.07699569 -0.83706805]\n",
      " Score 0.15262824960105847\n",
      "MAE is  1.343334327505814\n",
      "RMSE is  1.8593782373312229\n",
      "MSE is  3.4572874294609655\n",
      "R^2  0.15262824960105847\n",
      "\n",
      "Results for linear regression on test data\n",
      "Input: Score, Test Year\n",
      "MAE is  1.3280942163231917\n",
      "RMSE is  1.7736128203896422\n",
      "MSE is  3.145702436650501\n",
      "R^2  0.12891639653197684\n"
     ]
    }
   ],
   "source": [
    "from sklearn.linear_model import LinearRegression\n",
    "from sklearn.metrics import mean_absolute_error\n",
    "from sklearn.metrics import mean_squared_error\n",
    "from sklearn.metrics import r2_score\n",
    "\n",
    "X = train_set[['AVG_SCORE', 'TEST_YEAR']]\n",
    "y = train_set['EXPENSE_PER_STUDENT']\n",
    "X_test = test_set[['AVG_SCORE', 'TEST_YEAR']]\n",
    "y_test = test_set['EXPENSE_PER_STUDENT']\n",
    "\n",
    "lrTwoInput_model = LinearRegression()\n",
    "lrTwoInput_model.fit(X,y)\n",
    "\n",
    "y_pred = lrTwoInput_model.predict(X)\n",
    "print('Results for linear regression on training data')\n",
    "print('Input: Score, Test Year')\n",
    "print(' Default settings')\n",
    "print('Internal parameters:')\n",
    "print(' Bias is ', lrTwoInput_model.intercept_)\n",
    "print(' Coefficients', lrTwoInput_model.coef_)\n",
    "print(' Score', lrTwoInput_model.score(X,y))\n",
    "print('MAE is ', mean_absolute_error(y, y_pred))\n",
    "print('RMSE is ', np.sqrt(mean_squared_error(y, y_pred)))\n",
    "print('MSE is ', mean_squared_error(y, y_pred))\n",
    "print('R^2 ', r2_score(y,y_pred))\n",
    "\n",
    "y_test_pred = lrTwoInput_model.predict(X_test)\n",
    "print()\n",
    "print('Results for linear regression on test data')\n",
    "print('Input: Score, Test Year')\n",
    "print('MAE is ', mean_absolute_error(y_test, y_test_pred))\n",
    "print('RMSE is ', np.sqrt(mean_squared_error(y_test,\n",
    "y_test_pred)))\n",
    "print('MSE is ', mean_squared_error(y_test, y_test_pred))\n",
    "print('R^2 ', r2_score(y_test,y_test_pred))"
   ]
  },
  {
   "cell_type": "code",
   "execution_count": 68,
   "id": "5e253a79-a706-4ce8-8009-3424629abbac",
   "metadata": {
    "tags": []
   },
   "outputs": [],
   "source": [
    "from sklearn.linear_model import LinearRegression\n",
    "from sklearn.metrics import mean_absolute_error\n",
    "from sklearn.metrics import mean_squared_error\n",
    "from sklearn.metrics import r2_score"
   ]
  },
  {
   "cell_type": "code",
   "execution_count": 84,
   "id": "da72d596-7ca2-46dc-929b-cbfeed3920a9",
   "metadata": {
    "tags": []
   },
   "outputs": [
    {
     "name": "stdout",
     "output_type": "stream",
     "text": [
      "Results for linear regression on training data\n",
      "Input: Expense, Test Year\n",
      " Default settings\n",
      "Internal parameters:\n",
      " Bias is  179.6748009124244\n",
      " Coefficients [ 1.98223774 10.84604436]\n",
      " Score 0.8452275682051464\n",
      "MAE is  7.115020587469477\n",
      "RMSE is  9.43435916688901\n",
      "MSE is  89.00713288986269\n",
      "R^2  0.8452275682051464\n",
      "\n",
      "Results for linear regression on test data\n",
      "Input: Expense, Test Year\n",
      "MAE is  6.719951640034663\n",
      "RMSE is  8.89734075805416\n",
      "MSE is  79.16267256493175\n",
      "R^2  0.868928688206606\n"
     ]
    }
   ],
   "source": [
    "#2 variable linear regression\n",
    "from sklearn.linear_model import LinearRegression\n",
    "from sklearn.metrics import mean_absolute_error\n",
    "from sklearn.metrics import mean_squared_error\n",
    "from sklearn.metrics import r2_score\n",
    "\n",
    "X = train_set[['EXPENSE_PER_STUDENT', 'TEST_YEAR']]\n",
    "y = train_set['AVG_SCORE']\n",
    "X_test = test_set[['EXPENSE_PER_STUDENT', 'TEST_YEAR']]\n",
    "y_test = test_set['AVG_SCORE']\n",
    "\n",
    "lrTwoInput_model = LinearRegression()\n",
    "lrTwoInput_model.fit(X,y)\n",
    "\n",
    "y_pred = lrTwoInput_model.predict(X)\n",
    "print('Results for linear regression on training data')\n",
    "print('Input: Expense, Test Year')\n",
    "print(' Default settings')\n",
    "print('Internal parameters:')\n",
    "print(' Bias is ', lrTwoInput_model.intercept_)\n",
    "print(' Coefficients', lrTwoInput_model.coef_)\n",
    "print(' Score', lrTwoInput_model.score(X,y))\n",
    "print('MAE is ', mean_absolute_error(y, y_pred))\n",
    "print('RMSE is ', np.sqrt(mean_squared_error(y, y_pred)))\n",
    "print('MSE is ', mean_squared_error(y, y_pred))\n",
    "print('R^2 ', r2_score(y,y_pred))\n",
    "\n",
    "y_test_pred = lrTwoInput_model.predict(X_test)\n",
    "print()\n",
    "print('Results for linear regression on test data')\n",
    "print('Input: Expense, Test Year')\n",
    "print('MAE is ', mean_absolute_error(y_test, y_test_pred))\n",
    "print('RMSE is ', np.sqrt(mean_squared_error(y_test,\n",
    "y_test_pred)))\n",
    "print('MSE is ', mean_squared_error(y_test, y_test_pred))\n",
    "print('R^2 ', r2_score(y_test,y_test_pred))"
   ]
  },
  {
   "cell_type": "code",
   "execution_count": 86,
   "id": "77c7415c-e4f5-4a25-8136-97d5002d2cd6",
   "metadata": {
    "tags": []
   },
   "outputs": [
    {
     "name": "stdout",
     "output_type": "stream",
     "text": [
      "Results for linear regression on training data\n",
      "Polynomial regression with degree  6\n",
      " Default settings\n",
      "Internal parameters:\n",
      " Bias is  8.491269220772438\n",
      " Coefficients [ 9.04090731e-03  2.99191113e-09 -4.40140267e-02  3.49783131e-02\n",
      "  3.58708371e-08  1.01365998e-01 -1.64131945e-01  1.30430723e-01\n",
      "  3.34791614e-07 -1.04496908e-01  3.46642551e-01 -5.61134488e-01\n",
      "  4.45862657e-01  2.86964181e-06  3.66790153e-02 -2.76772850e-01\n",
      "  9.15998676e-01 -1.48139161e+00  1.17656875e+00  2.37223719e-05\n",
      " -6.40718011e-04  1.28669647e-04  2.26268577e-02 -1.00577528e-01\n",
      "  1.79604285e-01 -1.48780046e-01  1.92839931e-04]\n",
      " Score 0.8587784993249336\n",
      "MAE is  6.656683596511812\n",
      "RMSE is  9.011892733651335\n",
      "MSE is  81.21421064283773\n",
      "R^2  0.8587784993249336\n",
      "\n",
      "Results for linear regression on test data\n",
      "MAE is  6.602485081699719\n",
      "RMSE is  8.810855094985389\n",
      "MSE is  77.63116750482997\n",
      "R^2  0.8714644335363396\n"
     ]
    }
   ],
   "source": [
    "#Polynomial regression\n",
    "from sklearn.linear_model import LinearRegression\n",
    "from sklearn.metrics import mean_absolute_error\n",
    "from sklearn.metrics import mean_squared_error\n",
    "from sklearn.metrics import r2_score\n",
    "from sklearn.preprocessing import PolynomialFeatures\n",
    "power = 6\n",
    "poly_process = PolynomialFeatures(degree=power, include_bias=False)\n",
    "\n",
    "X = train_set[['EXPENSE_PER_STUDENT', 'TEST_YEAR']]\n",
    "y = train_set['AVG_SCORE']\n",
    "X_poly = poly_process.fit_transform(X)\n",
    "\n",
    "X_test = test_set[['EXPENSE_PER_STUDENT', 'TEST_YEAR']]\n",
    "y_test = test_set['AVG_SCORE']\n",
    "X_poly_test = poly_process.fit_transform(X_test)\n",
    "\n",
    "lr_model = LinearRegression()\n",
    "lr_model.fit(X_poly,y)\n",
    "\n",
    "y_pred = lr_model.predict(X_poly)\n",
    "print('Results for linear regression on training data')\n",
    "print('Polynomial regression with degree ', power)\n",
    "print(' Default settings')\n",
    "print('Internal parameters:')\n",
    "print(' Bias is ', lr_model.intercept_)\n",
    "print(' Coefficients', lr_model.coef_)\n",
    "print(' Score', lr_model.score(X_poly,y))\n",
    "print('MAE is ', mean_absolute_error(y, y_pred))\n",
    "print('RMSE is ', np.sqrt(mean_squared_error(y, y_pred)))\n",
    "print('MSE is ', mean_squared_error(y, y_pred))\n",
    "print('R^2 ', r2_score(y,y_pred))\n",
    "\n",
    "y_test_pred = lr_model.predict(X_poly_test)\n",
    "print()\n",
    "print('Results for linear regression on test data')\n",
    "print('MAE is ', mean_absolute_error(y_test, y_test_pred))\n",
    "print('RMSE is ', np.sqrt(mean_squared_error(y_test,\n",
    "y_test_pred)))\n",
    "print('MSE is ', mean_squared_error(y_test, y_test_pred))\n",
    "print('R^2 ', r2_score(y_test,y_test_pred))"
   ]
  },
  {
   "cell_type": "code",
   "execution_count": 91,
   "id": "6bcf9290-88d3-4730-b97b-d5125d774a80",
   "metadata": {
    "tags": []
   },
   "outputs": [
    {
     "name": "stdout",
     "output_type": "stream",
     "text": [
      "Results for linear regression on training data\n",
      "Polynomial regression with degree  2\n",
      " Default settings\n",
      "Internal parameters:\n",
      " Bias is  192.7557169519023\n",
      " Coefficients [ 6.90649912  0.07828486 -0.30235392 -0.0898886   0.93941831]\n",
      " Score 0.854064256323466\n",
      "MAE is  6.7838910131878745\n",
      "RMSE is  9.161075038952918\n",
      "MSE is  83.92529586932619\n",
      "R^2  0.854064256323466\n",
      "\n",
      "Results for linear regression on test data\n",
      "MAE is  6.5273857549967715\n",
      "RMSE is  8.821396552413258\n",
      "MSE is  77.81703713492851\n",
      "R^2  0.8711566852573817\n"
     ]
    }
   ],
   "source": [
    "#Polynomial regression\n",
    "from sklearn.linear_model import LinearRegression\n",
    "from sklearn.metrics import mean_absolute_error\n",
    "from sklearn.metrics import mean_squared_error\n",
    "from sklearn.metrics import r2_score\n",
    "from sklearn.preprocessing import PolynomialFeatures\n",
    "power = 2\n",
    "poly_process = PolynomialFeatures(degree=power, include_bias=False)\n",
    "\n",
    "X = train_set[['EXPENSE_PER_STUDENT', 'TEST_YEAR']]\n",
    "y = train_set['AVG_SCORE']\n",
    "X_poly = poly_process.fit_transform(X)\n",
    "\n",
    "X_test = test_set[['EXPENSE_PER_STUDENT', 'TEST_YEAR']]\n",
    "y_test = test_set['AVG_SCORE']\n",
    "X_poly_test = poly_process.fit_transform(X_test)\n",
    "\n",
    "lr_model = LinearRegression()\n",
    "lr_model.fit(X_poly,y)\n",
    "\n",
    "y_pred = lr_model.predict(X_poly)\n",
    "print('Results for linear regression on training data')\n",
    "print('Polynomial regression with degree ', power)\n",
    "print(' Default settings')\n",
    "print('Internal parameters:')\n",
    "print(' Bias is ', lr_model.intercept_)\n",
    "print(' Coefficients', lr_model.coef_)\n",
    "print(' Score', lr_model.score(X_poly,y))\n",
    "print('MAE is ', mean_absolute_error(y, y_pred))\n",
    "print('RMSE is ', np.sqrt(mean_squared_error(y, y_pred)))\n",
    "print('MSE is ', mean_squared_error(y, y_pred))\n",
    "print('R^2 ', r2_score(y,y_pred))\n",
    "\n",
    "y_test_pred = lr_model.predict(X_poly_test)\n",
    "print()\n",
    "print('Results for linear regression on test data')\n",
    "print('MAE is ', mean_absolute_error(y_test, y_test_pred))\n",
    "print('RMSE is ', np.sqrt(mean_squared_error(y_test,\n",
    "y_test_pred)))\n",
    "print('MSE is ', mean_squared_error(y_test, y_test_pred))\n",
    "print('R^2 ', r2_score(y_test,y_test_pred))"
   ]
  },
  {
   "cell_type": "code",
   "execution_count": 101,
   "id": "64bc9d93-df3b-4828-860a-273ea5f3daa5",
   "metadata": {
    "tags": []
   },
   "outputs": [
    {
     "name": "stdout",
     "output_type": "stream",
     "text": [
      "Results for elastic net on training data\n",
      "Polynomial regression with degree  6\n",
      " Default settings\n",
      "Internal parameters:\n",
      " Bias is  209.51761457115742\n",
      " Coefficients [ 0.00000000e+00  0.00000000e+00  3.05306000e-01  5.17428936e-01\n",
      "  2.94870102e-01 -2.51177858e-02  3.41970101e-02  1.14818417e-02\n",
      "  1.76981762e-02 -2.16459109e-03  1.67703944e-03 -7.85187510e-04\n",
      " -2.87749106e-03  2.09572725e-03  1.33827759e-06 -2.10138511e-06\n",
      "  1.39427237e-04 -2.38144988e-04 -3.35631150e-04  3.03472001e-04\n",
      "  8.61092257e-06 -1.45726094e-05  6.06074125e-06  1.55650889e-05\n",
      " -3.10883797e-05 -3.78231251e-05  3.88081381e-05]\n",
      " Score 0.8547747791055283\n",
      "MAE is  6.761306991479674\n",
      "RMSE is  9.138746394361096\n",
      "MSE is  83.51668566044793\n",
      "R^2  0.8547747791055283\n",
      "\n",
      "Results for elastic net on test data\n",
      "MAE is  6.562453595934035\n",
      "RMSE is  8.851493658114228\n",
      "MSE is  78.34893997963638\n",
      "R^2  0.8702760024640448\n"
     ]
    },
    {
     "name": "stderr",
     "output_type": "stream",
     "text": [
      "C:\\Users\\alhal\\AppData\\Local\\Programs\\Python\\Python311\\Lib\\site-packages\\sklearn\\linear_model\\_coordinate_descent.py:631: ConvergenceWarning: Objective did not converge. You might want to increase the number of iterations, check the scale of the features or consider increasing regularisation. Duality gap: 3.425e+04, tolerance: 4.693e+01\n",
      "  model = cd_fast.enet_coordinate_descent(\n"
     ]
    }
   ],
   "source": [
    "#Elastic Net with Poly features\n",
    "from sklearn.linear_model import ElasticNet\n",
    "from sklearn.linear_model import LinearRegression\n",
    "from sklearn.metrics import mean_absolute_error\n",
    "from sklearn.metrics import mean_squared_error\n",
    "from sklearn.metrics import r2_score\n",
    "from sklearn.preprocessing import PolynomialFeatures\n",
    "power = 6\n",
    "poly_process = PolynomialFeatures(degree=power, include_bias=False)\n",
    "\n",
    "X = train_set[['EXPENSE_PER_STUDENT', 'TEST_YEAR']]\n",
    "y = train_set['AVG_SCORE']\n",
    "X_poly = poly_process.fit_transform(X)\n",
    "\n",
    "X_test = test_set[['EXPENSE_PER_STUDENT', 'TEST_YEAR']]\n",
    "y_test = test_set['AVG_SCORE']\n",
    "X_poly_test = poly_process.fit_transform(X_test)\n",
    "\n",
    "reg_lr_model = ElasticNet(alpha=0.3, l1_ratio=0.5)\n",
    "reg_lr_model.fit(X_poly,y)\n",
    "\n",
    "y_pred = reg_lr_model.predict(X_poly)\n",
    "print('Results for elastic net on training data')\n",
    "print('Polynomial regression with degree ', power)\n",
    "print(' Default settings')\n",
    "print('Internal parameters:')\n",
    "print(' Bias is ', reg_lr_model.intercept_)\n",
    "print(' Coefficients', reg_lr_model.coef_)\n",
    "print(' Score', reg_lr_model.score(X_poly,y))\n",
    "print('MAE is ', mean_absolute_error(y, y_pred))\n",
    "print('RMSE is ', np.sqrt(mean_squared_error(y, y_pred)))\n",
    "print('MSE is ', mean_squared_error(y, y_pred))\n",
    "print('R^2 ', r2_score(y,y_pred))\n",
    "\n",
    "y_test_pred = reg_lr_model.predict(X_poly_test)\n",
    "print()\n",
    "print('Results for elastic net on test data')\n",
    "print('MAE is ', mean_absolute_error(y_test, y_test_pred))\n",
    "print('RMSE is ', np.sqrt(mean_squared_error(y_test,\n",
    "y_test_pred)))\n",
    "print('MSE is ', mean_squared_error(y_test, y_test_pred))\n",
    "print('R^2 ', r2_score(y_test,y_test_pred))"
   ]
  }
 ],
 "metadata": {
  "kernelspec": {
   "display_name": "Python 3 (ipykernel)",
   "language": "python",
   "name": "python3"
  },
  "language_info": {
   "codemirror_mode": {
    "name": "ipython",
    "version": 3
   },
   "file_extension": ".py",
   "mimetype": "text/x-python",
   "name": "python",
   "nbconvert_exporter": "python",
   "pygments_lexer": "ipython3",
   "version": "3.11.0"
  }
 },
 "nbformat": 4,
 "nbformat_minor": 5
}
